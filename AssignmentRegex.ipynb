{
 "cells": [
  {
   "cell_type": "code",
   "execution_count": 324,
   "id": "52104a92",
   "metadata": {},
   "outputs": [],
   "source": [
    "import re\n",
    "import pandas as pd"
   ]
  },
  {
   "cell_type": "markdown",
   "id": "1c6132ab",
   "metadata": {},
   "source": [
    "Q1: Write a Python program to replace all occurrences of a space, comma, or dot with a colon.\n",
    "    Sample Text- 'Python Exercises, PHP exercises.'\n",
    "Expected Output: Python:Exercises::PHP:exercises:\n"
   ]
  },
  {
   "cell_type": "code",
   "execution_count": 312,
   "id": "282b3aa9",
   "metadata": {},
   "outputs": [
    {
     "name": "stdout",
     "output_type": "stream",
     "text": [
      "Python:Exercises::PHP:exercises:\n"
     ]
    }
   ],
   "source": [
    "string='Python Exercises, PHP exercises.'\n",
    "Rep_string= re.sub(\"[ ,.]\", \":\", string)\n",
    "print(Rep_string)"
   ]
  },
  {
   "cell_type": "markdown",
   "id": "2aa95cf1",
   "metadata": {},
   "source": [
    "Q2:Create a dataframe using the dictionary below and remove everything (commas (,), !, XXXX, ;, etc.) from the columns except words.\n",
    "Dictionary- {'SUMMARY' : ['hello, world!', 'XXXXX test', '123four, five:; six...']}\n"
   ]
  },
  {
   "cell_type": "code",
   "execution_count": 84,
   "id": "dab17d87",
   "metadata": {},
   "outputs": [],
   "source": [
    "df=pd.DataFrame({'SUMMARY' : ['hello, world!', 'XXXXX test', '123four, five:; six...']})"
   ]
  },
  {
   "cell_type": "code",
   "execution_count": 85,
   "id": "adcd5fbf",
   "metadata": {},
   "outputs": [
    {
     "data": {
      "text/html": [
       "<div>\n",
       "<style scoped>\n",
       "    .dataframe tbody tr th:only-of-type {\n",
       "        vertical-align: middle;\n",
       "    }\n",
       "\n",
       "    .dataframe tbody tr th {\n",
       "        vertical-align: top;\n",
       "    }\n",
       "\n",
       "    .dataframe thead th {\n",
       "        text-align: right;\n",
       "    }\n",
       "</style>\n",
       "<table border=\"1\" class=\"dataframe\">\n",
       "  <thead>\n",
       "    <tr style=\"text-align: right;\">\n",
       "      <th></th>\n",
       "      <th>SUMMARY</th>\n",
       "    </tr>\n",
       "  </thead>\n",
       "  <tbody>\n",
       "    <tr>\n",
       "      <th>0</th>\n",
       "      <td>hello, world!</td>\n",
       "    </tr>\n",
       "    <tr>\n",
       "      <th>1</th>\n",
       "      <td>XXXXX test</td>\n",
       "    </tr>\n",
       "    <tr>\n",
       "      <th>2</th>\n",
       "      <td>123four, five:; six...</td>\n",
       "    </tr>\n",
       "  </tbody>\n",
       "</table>\n",
       "</div>"
      ],
      "text/plain": [
       "                  SUMMARY\n",
       "0           hello, world!\n",
       "1              XXXXX test\n",
       "2  123four, five:; six..."
      ]
     },
     "execution_count": 85,
     "metadata": {},
     "output_type": "execute_result"
    }
   ],
   "source": [
    "df"
   ]
  },
  {
   "cell_type": "code",
   "execution_count": 86,
   "id": "4d001995",
   "metadata": {},
   "outputs": [
    {
     "data": {
      "text/plain": [
       "0             hello  world \n",
       "1                      test\n",
       "2       four  five   six   \n",
       "Name: SUMMARY, dtype: object"
      ]
     },
     "execution_count": 86,
     "metadata": {},
     "output_type": "execute_result"
    }
   ],
   "source": [
    "df['SUMMARY'].str.replace('[\\W+\\d+X+]',\" \",regex=\"True\")"
   ]
  },
  {
   "cell_type": "markdown",
   "id": "94b73cd9",
   "metadata": {},
   "source": [
    "Q3:Create a function in python to find all words that are at least 4 characters long in a string. The use of the re.compile() method is mandatory."
   ]
  },
  {
   "cell_type": "code",
   "execution_count": 317,
   "id": "29a59c21",
   "metadata": {
    "scrolled": true
   },
   "outputs": [
    {
     "name": "stdout",
     "output_type": "stream",
     "text": [
      "<class 'str'>\n",
      "<class 're.Pattern'> \n",
      "\n",
      "['Crea', 'func', 'tion', 'pyth', 'find', 'word', 'that', 'leas', 'char', 'acte', 'long', 'stri', 'comp', 'meth', 'mand', 'ator']\n"
     ]
    }
   ],
   "source": [
    "string=\"Create a function in python to find all words that are at least 4 characters long in a string. The use of the re.compile() method is mandatory.\"\n",
    "def find4(string):\n",
    "    pattern=r\"\\w{4}\"\n",
    "    print(type(pattern))\n",
    "    regex_pattern=re.compile(pattern)\n",
    "    print(type(regex_pattern),\"\\n\")\n",
    "    result=regex_pattern.findall(string)\n",
    "    print(result)\n",
    "    \n",
    "find4(string)"
   ]
  },
  {
   "cell_type": "markdown",
   "id": "b867d075",
   "metadata": {},
   "source": [
    "Q4.Create a function in python to find all three, four, and five character words in a string. The use of the re.compile() method is mandatory."
   ]
  },
  {
   "cell_type": "code",
   "execution_count": 316,
   "id": "1f1de6ac",
   "metadata": {},
   "outputs": [
    {
     "name": "stdout",
     "output_type": "stream",
     "text": [
      "['Machi', 'Learn', 'ing', 'branc', 'artif', 'icial', 'intel', 'ligen', 'that', 'devel', 'ops', 'algor', 'ithms', 'learn', 'ing', 'the', 'hidde', 'patte', 'rns', 'the', 'datas', 'ets', 'used', 'make', 'predi', 'ction', 'new', 'simil', 'type', 'data', 'witho', 'being', 'expli', 'citly', 'progr', 'ammed', 'for', 'each', 'task']\n"
     ]
    }
   ],
   "source": [
    "def str(string):\n",
    "    reg_1=re.compile(r'\\w{3,5}')\n",
    "    res=reg_1.findall(string)\n",
    "    print(res)\n",
    "    \n",
    "str1=str1=\"Machine Learning is a branch of artificial intelligence that develops algorithms by learning the hidden patterns of the datasets used it to make predictions on new similar type data, without being explicitly programmed for each task.\"    \n",
    "str(str1) "
   ]
  },
  {
   "cell_type": "markdown",
   "id": "d22cc933",
   "metadata": {},
   "source": [
    "Q5.Create a function in Python to remove the parenthesis in a list of strings. The use of the re.compile() method is mandatory.\n",
    "Sample Text: [\"example (.com)\", \"hr@fliprobo (.com)\", \"github (.com)\", \"Hello (Data Science World)\", \"Data (Scientist)\"]\n",
    "Expected Output:\n",
    "example.com\n",
    "hr@fliprobo.com\n",
    "github.com\n",
    "Hello Data Science World\n"
   ]
  },
  {
   "cell_type": "code",
   "execution_count": 318,
   "id": "587f331b",
   "metadata": {},
   "outputs": [
    {
     "name": "stdout",
     "output_type": "stream",
     "text": [
      "<class 're.Pattern'>\n",
      "example .com\n",
      "hr@fliprobo .com\n",
      "github .com\n",
      "Hello Data Science World\n",
      "Data Scientist\n"
     ]
    }
   ],
   "source": [
    "list1=[\"example (.com)\", \"hr@fliprobo (.com)\", \"github (.com)\", \"Hello (Data Science World)\", \"Data (Scientist)\"]\n",
    "def para(string):\n",
    "    pat3=r\"[()]\"\n",
    "    re_pat3=re.compile(pat3)\n",
    "    print(type(re_pat3))\n",
    "    for item in string:\n",
    "        str3=re_pat3.sub(\"\",item)\n",
    "        print(str3)\n",
    "        \n",
    "para(list1)"
   ]
  },
  {
   "cell_type": "markdown",
   "id": "0bea8734",
   "metadata": {},
   "source": [
    "Q6.Write a python program to remove the parenthesis area from the text stored in the text file using Regular Expression.\n",
    "Sample Text: [\"example (.com)\", \"hr@fliprobo (.com)\", \"github (.com)\", \"Hello (Data Science World)\", \"Data (Scientist)\"]\n",
    "Expected Output: [\"example\", \"hr@fliprobo\", \"github\", \"Hello\", \"Data\"]\n",
    "Note- Store given sample text in the text file and then to remove the parenthesis area from the text.\n"
   ]
  },
  {
   "cell_type": "code",
   "execution_count": 90,
   "id": "e8ba0de1",
   "metadata": {},
   "outputs": [
    {
     "name": "stdout",
     "output_type": "stream",
     "text": [
      "[\"example \", \"hr@fliprobo \", \"github \", \"Hello \", \"Data \"]\n"
     ]
    }
   ],
   "source": [
    "with open(\"Q6.txt\") as file1:\n",
    "    for para in file1:\n",
    "        pat4=r'\\([^)]+\\)'\n",
    "        str4=re.sub(pat4,\"\",para)\n",
    "        print(str4)        "
   ]
  },
  {
   "cell_type": "markdown",
   "id": "564e7dca",
   "metadata": {},
   "source": [
    "Q7.Write a regular expression in Python to split a string into uppercase letters.\n",
    "Sample text: “ImportanceOfRegularExpressionsInPython”\n",
    "Expected Output: [‘Importance’, ‘Of’, ‘Regular’, ‘Expression’, ‘In’, ‘Python’]\n"
   ]
  },
  {
   "cell_type": "code",
   "execution_count": 321,
   "id": "72315666",
   "metadata": {},
   "outputs": [
    {
     "name": "stdout",
     "output_type": "stream",
     "text": [
      "['Importance', 'Of', 'Regular', 'Expressions', 'In', 'Python']\n"
     ]
    }
   ],
   "source": [
    "text=\"ImportanceOfRegularExpressionsInPython\"\n",
    "\n",
    "result_=re.findall(\"[A-Z][a-z]+\",text)\n",
    "print(result_)"
   ]
  },
  {
   "cell_type": "markdown",
   "id": "c2bd9726",
   "metadata": {},
   "source": [
    "Q8: Create a function in python to insert spaces between words starting with numbers.\n",
    "Sample Text: “RegularExpression1IsAn2ImportantTopic3InPython\"\n",
    "Expected Output: RegularExpression 1IsAn 2ImportantTopic 3InPython\n"
   ]
  },
  {
   "cell_type": "code",
   "execution_count": 322,
   "id": "41f3da2c",
   "metadata": {},
   "outputs": [
    {
     "name": "stdout",
     "output_type": "stream",
     "text": [
      "RegularExpression 1IsAn 2ImportantTopic 3InPython\n"
     ]
    }
   ],
   "source": [
    "str5=\"RegularExpression1IsAn2ImportantTopic3InPython\"\n",
    "pat5= r'([A-Za-z]+)(\\d+)'\n",
    "rep_str=re.sub(pat5,r'\\1 \\2',str5)\n",
    "print(rep_str)"
   ]
  },
  {
   "cell_type": "markdown",
   "id": "ab5aacd4",
   "metadata": {},
   "source": [
    "Q9: Create a function in python to insert spaces between words starting with capital letters or with numbers.\n",
    "Sample Text: “RegularExpression1IsAn2ImportantTopic3InPython\"\n",
    "Expected Output:  RegularExpression 1 IsAn 2 ImportantTopic 3 InPython\n"
   ]
  },
  {
   "cell_type": "code",
   "execution_count": 323,
   "id": "0f565f28",
   "metadata": {},
   "outputs": [
    {
     "data": {
      "text/plain": [
       "' RegularExpression 1 IsAn 2 ImportantTopic 3 InPython '"
      ]
     },
     "execution_count": 323,
     "metadata": {},
     "output_type": "execute_result"
    }
   ],
   "source": [
    "pat6=r'([A-Za-z]+)(\\d+)([A-Za-z]+)'\n",
    "result2 = re.sub(pat6,r' \\1 \\2 \\3 ',str5)\n",
    "result2"
   ]
  },
  {
   "cell_type": "markdown",
   "id": "7c6975e4",
   "metadata": {},
   "source": [
    "Q10:Use the github link below to read the data and create a dataframe. After creating the dataframe extract the first 6 letters of each country and store in the dataframe under a new column called first_five_letters.\n",
    "Github Link-  https://raw.githubusercontent.com/dsrscientist/DSData/master/happiness_score_dataset.csv\n"
   ]
  },
  {
   "cell_type": "code",
   "execution_count": 94,
   "id": "b5cbfde8",
   "metadata": {},
   "outputs": [],
   "source": [
    "Gurl=\"https://raw.githubusercontent.com/dsrscientist/DSData/master/happiness_score_dataset.csv\"\n",
    "df=pd.read_csv(Gurl)"
   ]
  },
  {
   "cell_type": "code",
   "execution_count": 95,
   "id": "17d13318",
   "metadata": {},
   "outputs": [
    {
     "data": {
      "text/html": [
       "<div>\n",
       "<style scoped>\n",
       "    .dataframe tbody tr th:only-of-type {\n",
       "        vertical-align: middle;\n",
       "    }\n",
       "\n",
       "    .dataframe tbody tr th {\n",
       "        vertical-align: top;\n",
       "    }\n",
       "\n",
       "    .dataframe thead th {\n",
       "        text-align: right;\n",
       "    }\n",
       "</style>\n",
       "<table border=\"1\" class=\"dataframe\">\n",
       "  <thead>\n",
       "    <tr style=\"text-align: right;\">\n",
       "      <th></th>\n",
       "      <th>Country</th>\n",
       "      <th>Region</th>\n",
       "      <th>Happiness Rank</th>\n",
       "      <th>Happiness Score</th>\n",
       "      <th>Standard Error</th>\n",
       "      <th>Economy (GDP per Capita)</th>\n",
       "      <th>Family</th>\n",
       "      <th>Health (Life Expectancy)</th>\n",
       "      <th>Freedom</th>\n",
       "      <th>Trust (Government Corruption)</th>\n",
       "      <th>Generosity</th>\n",
       "      <th>Dystopia Residual</th>\n",
       "    </tr>\n",
       "  </thead>\n",
       "  <tbody>\n",
       "    <tr>\n",
       "      <th>0</th>\n",
       "      <td>Switzerland</td>\n",
       "      <td>Western Europe</td>\n",
       "      <td>1</td>\n",
       "      <td>7.587</td>\n",
       "      <td>0.03411</td>\n",
       "      <td>1.39651</td>\n",
       "      <td>1.34951</td>\n",
       "      <td>0.94143</td>\n",
       "      <td>0.66557</td>\n",
       "      <td>0.41978</td>\n",
       "      <td>0.29678</td>\n",
       "      <td>2.51738</td>\n",
       "    </tr>\n",
       "    <tr>\n",
       "      <th>1</th>\n",
       "      <td>Iceland</td>\n",
       "      <td>Western Europe</td>\n",
       "      <td>2</td>\n",
       "      <td>7.561</td>\n",
       "      <td>0.04884</td>\n",
       "      <td>1.30232</td>\n",
       "      <td>1.40223</td>\n",
       "      <td>0.94784</td>\n",
       "      <td>0.62877</td>\n",
       "      <td>0.14145</td>\n",
       "      <td>0.43630</td>\n",
       "      <td>2.70201</td>\n",
       "    </tr>\n",
       "    <tr>\n",
       "      <th>2</th>\n",
       "      <td>Denmark</td>\n",
       "      <td>Western Europe</td>\n",
       "      <td>3</td>\n",
       "      <td>7.527</td>\n",
       "      <td>0.03328</td>\n",
       "      <td>1.32548</td>\n",
       "      <td>1.36058</td>\n",
       "      <td>0.87464</td>\n",
       "      <td>0.64938</td>\n",
       "      <td>0.48357</td>\n",
       "      <td>0.34139</td>\n",
       "      <td>2.49204</td>\n",
       "    </tr>\n",
       "    <tr>\n",
       "      <th>3</th>\n",
       "      <td>Norway</td>\n",
       "      <td>Western Europe</td>\n",
       "      <td>4</td>\n",
       "      <td>7.522</td>\n",
       "      <td>0.03880</td>\n",
       "      <td>1.45900</td>\n",
       "      <td>1.33095</td>\n",
       "      <td>0.88521</td>\n",
       "      <td>0.66973</td>\n",
       "      <td>0.36503</td>\n",
       "      <td>0.34699</td>\n",
       "      <td>2.46531</td>\n",
       "    </tr>\n",
       "    <tr>\n",
       "      <th>4</th>\n",
       "      <td>Canada</td>\n",
       "      <td>North America</td>\n",
       "      <td>5</td>\n",
       "      <td>7.427</td>\n",
       "      <td>0.03553</td>\n",
       "      <td>1.32629</td>\n",
       "      <td>1.32261</td>\n",
       "      <td>0.90563</td>\n",
       "      <td>0.63297</td>\n",
       "      <td>0.32957</td>\n",
       "      <td>0.45811</td>\n",
       "      <td>2.45176</td>\n",
       "    </tr>\n",
       "    <tr>\n",
       "      <th>...</th>\n",
       "      <td>...</td>\n",
       "      <td>...</td>\n",
       "      <td>...</td>\n",
       "      <td>...</td>\n",
       "      <td>...</td>\n",
       "      <td>...</td>\n",
       "      <td>...</td>\n",
       "      <td>...</td>\n",
       "      <td>...</td>\n",
       "      <td>...</td>\n",
       "      <td>...</td>\n",
       "      <td>...</td>\n",
       "    </tr>\n",
       "    <tr>\n",
       "      <th>153</th>\n",
       "      <td>Rwanda</td>\n",
       "      <td>Sub-Saharan Africa</td>\n",
       "      <td>154</td>\n",
       "      <td>3.465</td>\n",
       "      <td>0.03464</td>\n",
       "      <td>0.22208</td>\n",
       "      <td>0.77370</td>\n",
       "      <td>0.42864</td>\n",
       "      <td>0.59201</td>\n",
       "      <td>0.55191</td>\n",
       "      <td>0.22628</td>\n",
       "      <td>0.67042</td>\n",
       "    </tr>\n",
       "    <tr>\n",
       "      <th>154</th>\n",
       "      <td>Benin</td>\n",
       "      <td>Sub-Saharan Africa</td>\n",
       "      <td>155</td>\n",
       "      <td>3.340</td>\n",
       "      <td>0.03656</td>\n",
       "      <td>0.28665</td>\n",
       "      <td>0.35386</td>\n",
       "      <td>0.31910</td>\n",
       "      <td>0.48450</td>\n",
       "      <td>0.08010</td>\n",
       "      <td>0.18260</td>\n",
       "      <td>1.63328</td>\n",
       "    </tr>\n",
       "    <tr>\n",
       "      <th>155</th>\n",
       "      <td>Syria</td>\n",
       "      <td>Middle East and Northern Africa</td>\n",
       "      <td>156</td>\n",
       "      <td>3.006</td>\n",
       "      <td>0.05015</td>\n",
       "      <td>0.66320</td>\n",
       "      <td>0.47489</td>\n",
       "      <td>0.72193</td>\n",
       "      <td>0.15684</td>\n",
       "      <td>0.18906</td>\n",
       "      <td>0.47179</td>\n",
       "      <td>0.32858</td>\n",
       "    </tr>\n",
       "    <tr>\n",
       "      <th>156</th>\n",
       "      <td>Burundi</td>\n",
       "      <td>Sub-Saharan Africa</td>\n",
       "      <td>157</td>\n",
       "      <td>2.905</td>\n",
       "      <td>0.08658</td>\n",
       "      <td>0.01530</td>\n",
       "      <td>0.41587</td>\n",
       "      <td>0.22396</td>\n",
       "      <td>0.11850</td>\n",
       "      <td>0.10062</td>\n",
       "      <td>0.19727</td>\n",
       "      <td>1.83302</td>\n",
       "    </tr>\n",
       "    <tr>\n",
       "      <th>157</th>\n",
       "      <td>Togo</td>\n",
       "      <td>Sub-Saharan Africa</td>\n",
       "      <td>158</td>\n",
       "      <td>2.839</td>\n",
       "      <td>0.06727</td>\n",
       "      <td>0.20868</td>\n",
       "      <td>0.13995</td>\n",
       "      <td>0.28443</td>\n",
       "      <td>0.36453</td>\n",
       "      <td>0.10731</td>\n",
       "      <td>0.16681</td>\n",
       "      <td>1.56726</td>\n",
       "    </tr>\n",
       "  </tbody>\n",
       "</table>\n",
       "<p>158 rows × 12 columns</p>\n",
       "</div>"
      ],
      "text/plain": [
       "         Country                           Region  Happiness Rank  \\\n",
       "0    Switzerland                   Western Europe               1   \n",
       "1        Iceland                   Western Europe               2   \n",
       "2        Denmark                   Western Europe               3   \n",
       "3         Norway                   Western Europe               4   \n",
       "4         Canada                    North America               5   \n",
       "..           ...                              ...             ...   \n",
       "153       Rwanda               Sub-Saharan Africa             154   \n",
       "154        Benin               Sub-Saharan Africa             155   \n",
       "155        Syria  Middle East and Northern Africa             156   \n",
       "156      Burundi               Sub-Saharan Africa             157   \n",
       "157         Togo               Sub-Saharan Africa             158   \n",
       "\n",
       "     Happiness Score  Standard Error  Economy (GDP per Capita)   Family  \\\n",
       "0              7.587         0.03411                   1.39651  1.34951   \n",
       "1              7.561         0.04884                   1.30232  1.40223   \n",
       "2              7.527         0.03328                   1.32548  1.36058   \n",
       "3              7.522         0.03880                   1.45900  1.33095   \n",
       "4              7.427         0.03553                   1.32629  1.32261   \n",
       "..               ...             ...                       ...      ...   \n",
       "153            3.465         0.03464                   0.22208  0.77370   \n",
       "154            3.340         0.03656                   0.28665  0.35386   \n",
       "155            3.006         0.05015                   0.66320  0.47489   \n",
       "156            2.905         0.08658                   0.01530  0.41587   \n",
       "157            2.839         0.06727                   0.20868  0.13995   \n",
       "\n",
       "     Health (Life Expectancy)  Freedom  Trust (Government Corruption)  \\\n",
       "0                     0.94143  0.66557                        0.41978   \n",
       "1                     0.94784  0.62877                        0.14145   \n",
       "2                     0.87464  0.64938                        0.48357   \n",
       "3                     0.88521  0.66973                        0.36503   \n",
       "4                     0.90563  0.63297                        0.32957   \n",
       "..                        ...      ...                            ...   \n",
       "153                   0.42864  0.59201                        0.55191   \n",
       "154                   0.31910  0.48450                        0.08010   \n",
       "155                   0.72193  0.15684                        0.18906   \n",
       "156                   0.22396  0.11850                        0.10062   \n",
       "157                   0.28443  0.36453                        0.10731   \n",
       "\n",
       "     Generosity  Dystopia Residual  \n",
       "0       0.29678            2.51738  \n",
       "1       0.43630            2.70201  \n",
       "2       0.34139            2.49204  \n",
       "3       0.34699            2.46531  \n",
       "4       0.45811            2.45176  \n",
       "..          ...                ...  \n",
       "153     0.22628            0.67042  \n",
       "154     0.18260            1.63328  \n",
       "155     0.47179            0.32858  \n",
       "156     0.19727            1.83302  \n",
       "157     0.16681            1.56726  \n",
       "\n",
       "[158 rows x 12 columns]"
      ]
     },
     "execution_count": 95,
     "metadata": {},
     "output_type": "execute_result"
    }
   ],
   "source": [
    "df"
   ]
  },
  {
   "cell_type": "code",
   "execution_count": 96,
   "id": "19de737e",
   "metadata": {},
   "outputs": [],
   "source": [
    "df['first_five_letters'] = df['Country'].apply(lambda x: x[:6])"
   ]
  },
  {
   "cell_type": "code",
   "execution_count": 97,
   "id": "ce10fc01",
   "metadata": {},
   "outputs": [
    {
     "data": {
      "text/html": [
       "<div>\n",
       "<style scoped>\n",
       "    .dataframe tbody tr th:only-of-type {\n",
       "        vertical-align: middle;\n",
       "    }\n",
       "\n",
       "    .dataframe tbody tr th {\n",
       "        vertical-align: top;\n",
       "    }\n",
       "\n",
       "    .dataframe thead th {\n",
       "        text-align: right;\n",
       "    }\n",
       "</style>\n",
       "<table border=\"1\" class=\"dataframe\">\n",
       "  <thead>\n",
       "    <tr style=\"text-align: right;\">\n",
       "      <th></th>\n",
       "      <th>Country</th>\n",
       "      <th>Region</th>\n",
       "      <th>Happiness Rank</th>\n",
       "      <th>Happiness Score</th>\n",
       "      <th>Standard Error</th>\n",
       "      <th>Economy (GDP per Capita)</th>\n",
       "      <th>Family</th>\n",
       "      <th>Health (Life Expectancy)</th>\n",
       "      <th>Freedom</th>\n",
       "      <th>Trust (Government Corruption)</th>\n",
       "      <th>Generosity</th>\n",
       "      <th>Dystopia Residual</th>\n",
       "      <th>first_five_letters</th>\n",
       "    </tr>\n",
       "  </thead>\n",
       "  <tbody>\n",
       "    <tr>\n",
       "      <th>0</th>\n",
       "      <td>Switzerland</td>\n",
       "      <td>Western Europe</td>\n",
       "      <td>1</td>\n",
       "      <td>7.587</td>\n",
       "      <td>0.03411</td>\n",
       "      <td>1.39651</td>\n",
       "      <td>1.34951</td>\n",
       "      <td>0.94143</td>\n",
       "      <td>0.66557</td>\n",
       "      <td>0.41978</td>\n",
       "      <td>0.29678</td>\n",
       "      <td>2.51738</td>\n",
       "      <td>Switze</td>\n",
       "    </tr>\n",
       "    <tr>\n",
       "      <th>1</th>\n",
       "      <td>Iceland</td>\n",
       "      <td>Western Europe</td>\n",
       "      <td>2</td>\n",
       "      <td>7.561</td>\n",
       "      <td>0.04884</td>\n",
       "      <td>1.30232</td>\n",
       "      <td>1.40223</td>\n",
       "      <td>0.94784</td>\n",
       "      <td>0.62877</td>\n",
       "      <td>0.14145</td>\n",
       "      <td>0.43630</td>\n",
       "      <td>2.70201</td>\n",
       "      <td>Icelan</td>\n",
       "    </tr>\n",
       "    <tr>\n",
       "      <th>2</th>\n",
       "      <td>Denmark</td>\n",
       "      <td>Western Europe</td>\n",
       "      <td>3</td>\n",
       "      <td>7.527</td>\n",
       "      <td>0.03328</td>\n",
       "      <td>1.32548</td>\n",
       "      <td>1.36058</td>\n",
       "      <td>0.87464</td>\n",
       "      <td>0.64938</td>\n",
       "      <td>0.48357</td>\n",
       "      <td>0.34139</td>\n",
       "      <td>2.49204</td>\n",
       "      <td>Denmar</td>\n",
       "    </tr>\n",
       "    <tr>\n",
       "      <th>3</th>\n",
       "      <td>Norway</td>\n",
       "      <td>Western Europe</td>\n",
       "      <td>4</td>\n",
       "      <td>7.522</td>\n",
       "      <td>0.03880</td>\n",
       "      <td>1.45900</td>\n",
       "      <td>1.33095</td>\n",
       "      <td>0.88521</td>\n",
       "      <td>0.66973</td>\n",
       "      <td>0.36503</td>\n",
       "      <td>0.34699</td>\n",
       "      <td>2.46531</td>\n",
       "      <td>Norway</td>\n",
       "    </tr>\n",
       "    <tr>\n",
       "      <th>4</th>\n",
       "      <td>Canada</td>\n",
       "      <td>North America</td>\n",
       "      <td>5</td>\n",
       "      <td>7.427</td>\n",
       "      <td>0.03553</td>\n",
       "      <td>1.32629</td>\n",
       "      <td>1.32261</td>\n",
       "      <td>0.90563</td>\n",
       "      <td>0.63297</td>\n",
       "      <td>0.32957</td>\n",
       "      <td>0.45811</td>\n",
       "      <td>2.45176</td>\n",
       "      <td>Canada</td>\n",
       "    </tr>\n",
       "    <tr>\n",
       "      <th>...</th>\n",
       "      <td>...</td>\n",
       "      <td>...</td>\n",
       "      <td>...</td>\n",
       "      <td>...</td>\n",
       "      <td>...</td>\n",
       "      <td>...</td>\n",
       "      <td>...</td>\n",
       "      <td>...</td>\n",
       "      <td>...</td>\n",
       "      <td>...</td>\n",
       "      <td>...</td>\n",
       "      <td>...</td>\n",
       "      <td>...</td>\n",
       "    </tr>\n",
       "    <tr>\n",
       "      <th>153</th>\n",
       "      <td>Rwanda</td>\n",
       "      <td>Sub-Saharan Africa</td>\n",
       "      <td>154</td>\n",
       "      <td>3.465</td>\n",
       "      <td>0.03464</td>\n",
       "      <td>0.22208</td>\n",
       "      <td>0.77370</td>\n",
       "      <td>0.42864</td>\n",
       "      <td>0.59201</td>\n",
       "      <td>0.55191</td>\n",
       "      <td>0.22628</td>\n",
       "      <td>0.67042</td>\n",
       "      <td>Rwanda</td>\n",
       "    </tr>\n",
       "    <tr>\n",
       "      <th>154</th>\n",
       "      <td>Benin</td>\n",
       "      <td>Sub-Saharan Africa</td>\n",
       "      <td>155</td>\n",
       "      <td>3.340</td>\n",
       "      <td>0.03656</td>\n",
       "      <td>0.28665</td>\n",
       "      <td>0.35386</td>\n",
       "      <td>0.31910</td>\n",
       "      <td>0.48450</td>\n",
       "      <td>0.08010</td>\n",
       "      <td>0.18260</td>\n",
       "      <td>1.63328</td>\n",
       "      <td>Benin</td>\n",
       "    </tr>\n",
       "    <tr>\n",
       "      <th>155</th>\n",
       "      <td>Syria</td>\n",
       "      <td>Middle East and Northern Africa</td>\n",
       "      <td>156</td>\n",
       "      <td>3.006</td>\n",
       "      <td>0.05015</td>\n",
       "      <td>0.66320</td>\n",
       "      <td>0.47489</td>\n",
       "      <td>0.72193</td>\n",
       "      <td>0.15684</td>\n",
       "      <td>0.18906</td>\n",
       "      <td>0.47179</td>\n",
       "      <td>0.32858</td>\n",
       "      <td>Syria</td>\n",
       "    </tr>\n",
       "    <tr>\n",
       "      <th>156</th>\n",
       "      <td>Burundi</td>\n",
       "      <td>Sub-Saharan Africa</td>\n",
       "      <td>157</td>\n",
       "      <td>2.905</td>\n",
       "      <td>0.08658</td>\n",
       "      <td>0.01530</td>\n",
       "      <td>0.41587</td>\n",
       "      <td>0.22396</td>\n",
       "      <td>0.11850</td>\n",
       "      <td>0.10062</td>\n",
       "      <td>0.19727</td>\n",
       "      <td>1.83302</td>\n",
       "      <td>Burund</td>\n",
       "    </tr>\n",
       "    <tr>\n",
       "      <th>157</th>\n",
       "      <td>Togo</td>\n",
       "      <td>Sub-Saharan Africa</td>\n",
       "      <td>158</td>\n",
       "      <td>2.839</td>\n",
       "      <td>0.06727</td>\n",
       "      <td>0.20868</td>\n",
       "      <td>0.13995</td>\n",
       "      <td>0.28443</td>\n",
       "      <td>0.36453</td>\n",
       "      <td>0.10731</td>\n",
       "      <td>0.16681</td>\n",
       "      <td>1.56726</td>\n",
       "      <td>Togo</td>\n",
       "    </tr>\n",
       "  </tbody>\n",
       "</table>\n",
       "<p>158 rows × 13 columns</p>\n",
       "</div>"
      ],
      "text/plain": [
       "         Country                           Region  Happiness Rank  \\\n",
       "0    Switzerland                   Western Europe               1   \n",
       "1        Iceland                   Western Europe               2   \n",
       "2        Denmark                   Western Europe               3   \n",
       "3         Norway                   Western Europe               4   \n",
       "4         Canada                    North America               5   \n",
       "..           ...                              ...             ...   \n",
       "153       Rwanda               Sub-Saharan Africa             154   \n",
       "154        Benin               Sub-Saharan Africa             155   \n",
       "155        Syria  Middle East and Northern Africa             156   \n",
       "156      Burundi               Sub-Saharan Africa             157   \n",
       "157         Togo               Sub-Saharan Africa             158   \n",
       "\n",
       "     Happiness Score  Standard Error  Economy (GDP per Capita)   Family  \\\n",
       "0              7.587         0.03411                   1.39651  1.34951   \n",
       "1              7.561         0.04884                   1.30232  1.40223   \n",
       "2              7.527         0.03328                   1.32548  1.36058   \n",
       "3              7.522         0.03880                   1.45900  1.33095   \n",
       "4              7.427         0.03553                   1.32629  1.32261   \n",
       "..               ...             ...                       ...      ...   \n",
       "153            3.465         0.03464                   0.22208  0.77370   \n",
       "154            3.340         0.03656                   0.28665  0.35386   \n",
       "155            3.006         0.05015                   0.66320  0.47489   \n",
       "156            2.905         0.08658                   0.01530  0.41587   \n",
       "157            2.839         0.06727                   0.20868  0.13995   \n",
       "\n",
       "     Health (Life Expectancy)  Freedom  Trust (Government Corruption)  \\\n",
       "0                     0.94143  0.66557                        0.41978   \n",
       "1                     0.94784  0.62877                        0.14145   \n",
       "2                     0.87464  0.64938                        0.48357   \n",
       "3                     0.88521  0.66973                        0.36503   \n",
       "4                     0.90563  0.63297                        0.32957   \n",
       "..                        ...      ...                            ...   \n",
       "153                   0.42864  0.59201                        0.55191   \n",
       "154                   0.31910  0.48450                        0.08010   \n",
       "155                   0.72193  0.15684                        0.18906   \n",
       "156                   0.22396  0.11850                        0.10062   \n",
       "157                   0.28443  0.36453                        0.10731   \n",
       "\n",
       "     Generosity  Dystopia Residual first_five_letters  \n",
       "0       0.29678            2.51738             Switze  \n",
       "1       0.43630            2.70201             Icelan  \n",
       "2       0.34139            2.49204             Denmar  \n",
       "3       0.34699            2.46531             Norway  \n",
       "4       0.45811            2.45176             Canada  \n",
       "..          ...                ...                ...  \n",
       "153     0.22628            0.67042             Rwanda  \n",
       "154     0.18260            1.63328              Benin  \n",
       "155     0.47179            0.32858              Syria  \n",
       "156     0.19727            1.83302             Burund  \n",
       "157     0.16681            1.56726               Togo  \n",
       "\n",
       "[158 rows x 13 columns]"
      ]
     },
     "execution_count": 97,
     "metadata": {},
     "output_type": "execute_result"
    }
   ],
   "source": [
    "df"
   ]
  },
  {
   "cell_type": "markdown",
   "id": "519fcbaa",
   "metadata": {},
   "source": [
    "Q11:Write a Python program to match a string that contains only upper and lowercase letters, numbers, and underscores."
   ]
  },
  {
   "cell_type": "code",
   "execution_count": 196,
   "id": "bc284858",
   "metadata": {},
   "outputs": [],
   "source": [
    "def string_match(string):\n",
    "    rege=re.compile(r'(\\w+)')\n",
    "    for search in rege.finditer(string):\n",
    "        print(\"Match found in\",search.group())"
   ]
  },
  {
   "cell_type": "code",
   "execution_count": 197,
   "id": "65889350",
   "metadata": {},
   "outputs": [
    {
     "name": "stdout",
     "output_type": "stream",
     "text": [
      "Match found in Write\n",
      "Match found in a\n",
      "Match found in Python\n",
      "Match found in program\n"
     ]
    }
   ],
   "source": [
    "text=\"Write a Python program\"\n",
    "string_match(text)"
   ]
  },
  {
   "cell_type": "code",
   "execution_count": 199,
   "id": "dc679ba7",
   "metadata": {},
   "outputs": [
    {
     "name": "stdout",
     "output_type": "stream",
     "text": [
      "Match found in 123\n"
     ]
    }
   ],
   "source": [
    "text2=\"!@#$%^&*123\"\n",
    "string_match(text2)"
   ]
  },
  {
   "cell_type": "markdown",
   "id": "13a729ef",
   "metadata": {},
   "source": [
    "Q12:Write a Python program where a string will start with a specific number"
   ]
  },
  {
   "cell_type": "code",
   "execution_count": 278,
   "id": "1de39e51",
   "metadata": {},
   "outputs": [
    {
     "name": "stdout",
     "output_type": "stream",
     "text": [
      " 2abdcv does not starts with 9\n",
      "9abc def starts with 9\n"
     ]
    }
   ],
   "source": [
    "def num(string):\n",
    "    rege2=re.compile(r'(^9)')\n",
    "    if rege2.match(string):\n",
    "        print(string, \"starts with\", 9)\n",
    "    else:\n",
    "        print(string, \"does not starts with\", 9)\n",
    "\n",
    "stringx=\"9abc def\"\n",
    "stringq=\" 2abdcv\"\n",
    "num(stringq)\n",
    "num(stringx)"
   ]
  },
  {
   "cell_type": "markdown",
   "id": "35474c01",
   "metadata": {},
   "source": [
    "Q13: Write a Python program to remove leading zeros from an IP address"
   ]
  },
  {
   "cell_type": "code",
   "execution_count": 103,
   "id": "60ab2a87",
   "metadata": {},
   "outputs": [
    {
     "data": {
      "text/plain": [
       "'49.36.1.87'"
      ]
     },
     "execution_count": 103,
     "metadata": {},
     "output_type": "execute_result"
    }
   ],
   "source": [
    "ip_address=\"49.036.001.087\"\n",
    "pat7=\"\\.(0)+\"\n",
    "remove=re.sub(pat7,\".\",ip_address)\n",
    "print(remove)"
   ]
  },
  {
   "cell_type": "markdown",
   "id": "2f6f69e6",
   "metadata": {},
   "source": [
    "Q14: Write a regular expression in python to match a date string in the form of Month name followed by day number and year stored in a text file.\n",
    "Sample Text='On August 15th 1947 that India was declared independent from British colonialism, and the reins of control were handed over to the leaders of the Country’."
   ]
  },
  {
   "cell_type": "code",
   "execution_count": 104,
   "id": "442a8baa",
   "metadata": {},
   "outputs": [
    {
     "name": "stdout",
     "output_type": "stream",
     "text": [
      "[('August', '15th', '1947')]\n"
     ]
    }
   ],
   "source": [
    "with open(\"Q14.txt\") as file:\n",
    "    for date_ in file:\n",
    "        dates=re.findall(\"([A-Z][a-z]+) (\\d{2}th) (\\d{4})\",date_)\n",
    "        print(dates)\n",
    "        "
   ]
  },
  {
   "cell_type": "markdown",
   "id": "71e6194d",
   "metadata": {},
   "source": [
    "Q15:Write a Python program to search some literals strings in a string. \n",
    "Sample text : 'The quick brown fox jumps over the lazy dog.'\n",
    "Searched words : 'fox', 'dog', 'horse'\n"
   ]
  },
  {
   "cell_type": "code",
   "execution_count": 105,
   "id": "9d4697b2",
   "metadata": {},
   "outputs": [
    {
     "name": "stdout",
     "output_type": "stream",
     "text": [
      "fox is in The quick brown fox jumps over the lazy dog.\n",
      "dog is in The quick brown fox jumps over the lazy dog.\n",
      "horse is not in The quick brown fox jumps over the lazy dog.\n"
     ]
    }
   ],
   "source": [
    "text1='The quick brown fox jumps over the lazy dog.'\n",
    "pat8=[\"fox\",\"dog\",\"horse\"]\n",
    "for string in pat8:\n",
    "    if re.search(string,text1):\n",
    "        print(string,\"is in\" ,text1)\n",
    "    else:\n",
    "        print(string,\"is not in\",text1)"
   ]
  },
  {
   "cell_type": "markdown",
   "id": "2b266a1a",
   "metadata": {},
   "source": [
    "Q16:Write a Python program to search a literals string in a string and also find the location within the original string where the pattern occurs\n",
    "Sample text : 'The quick brown fox jumps over the lazy dog.'\n",
    "Searched words : 'fox'\n"
   ]
  },
  {
   "cell_type": "code",
   "execution_count": 106,
   "id": "ef8bbb52",
   "metadata": {},
   "outputs": [
    {
     "name": "stdout",
     "output_type": "stream",
     "text": [
      "fox is in The quick brown fox jumps over the lazy dog.\n",
      "<re.Match object; span=(16, 19), match='fox'>\n"
     ]
    }
   ],
   "source": [
    "text1='The quick brown fox jumps over the lazy dog.'\n",
    "pat9=[\"fox\"]\n",
    "for string in pat9:\n",
    "    if re.search(string,text1):\n",
    "        print(string,\"is in\",text1)\n",
    "    else:\n",
    "        print(string,\"is not in\",text1)\n",
    "    search_=re.search(\"fox\",text1)\n",
    "    print(search_)"
   ]
  },
  {
   "cell_type": "markdown",
   "id": "2338a137",
   "metadata": {},
   "source": [
    "Q17:Write a Python program to find the substrings within a string.\n",
    "Sample text : 'Python exercises, PHP exercises, C# exercises'\n",
    "Pattern : 'exercises'.\n"
   ]
  },
  {
   "cell_type": "code",
   "execution_count": 107,
   "id": "e2ae89d4",
   "metadata": {},
   "outputs": [
    {
     "name": "stdout",
     "output_type": "stream",
     "text": [
      "exercises found\n",
      "exercises found\n",
      "exercises found\n"
     ]
    }
   ],
   "source": [
    "text2='Python exercises, PHP exercises, C# exercises'\n",
    "pat10=\"exercises\"\n",
    "Pattern=re.findall(pat10,text2)\n",
    "for pat in Pattern:\n",
    "    print(pat,\"found\")   "
   ]
  },
  {
   "cell_type": "markdown",
   "id": "f972178c",
   "metadata": {},
   "source": [
    "Q18: Write a Python program to find the occurrence and position of the substrings within a string."
   ]
  },
  {
   "cell_type": "code",
   "execution_count": 108,
   "id": "e0348add",
   "metadata": {},
   "outputs": [
    {
     "name": "stdout",
     "output_type": "stream",
     "text": [
      "<re.Match object; span=(67, 76), match='substring'>\n"
     ]
    }
   ],
   "source": [
    "text3=\" Write a Python program to find the occurrence and position of the substrings within a string.\"\n",
    "pat11=\"substring\"\n",
    "search1=re.search(pat11,text3)\n",
    "print(search1)"
   ]
  },
  {
   "cell_type": "markdown",
   "id": "b8197130",
   "metadata": {},
   "source": [
    "Q19: Write a Python program to convert a date of yyyy-mm-dd format to dd-mm-yyyy format."
   ]
  },
  {
   "cell_type": "code",
   "execution_count": 109,
   "id": "2116eb26",
   "metadata": {},
   "outputs": [],
   "source": [
    "def convert(date):\n",
    "    pat12=r\"(\\d{4})-(\\d{2})-(\\d{2})\"\n",
    "    new_date=re.sub(pat12,r\"\\3-\\2-\\1\",date)\n",
    "    print(new_date)"
   ]
  },
  {
   "cell_type": "code",
   "execution_count": 110,
   "id": "44647fab",
   "metadata": {},
   "outputs": [
    {
     "name": "stdout",
     "output_type": "stream",
     "text": [
      "04-04-2024\n"
     ]
    }
   ],
   "source": [
    "date1=\"2024-04-04\"\n",
    "convert(date1)"
   ]
  },
  {
   "cell_type": "markdown",
   "id": "69cb6ae1",
   "metadata": {},
   "source": [
    "Q20: Create a function in python to find all decimal numbers with a precision of 1 or 2 in a string. The use of the re.compile() method is mandatory.\n",
    "Sample Text: \"01.12 0132.123 2.31875 145.8 3.01 27.25 0.25\"\n",
    "Expected Output: ['01.12', '145.8', '3.01', '27.25', '0.25']\n"
   ]
  },
  {
   "cell_type": "code",
   "execution_count": 113,
   "id": "2554299e",
   "metadata": {},
   "outputs": [
    {
     "name": "stdout",
     "output_type": "stream",
     "text": [
      "['01.12', '0132.12', '2.31', '145.8', '3.01', '27.25', '0.25']\n"
     ]
    }
   ],
   "source": [
    "def find_decimal(sample_text):\n",
    "    pat13=\"\\d+\\.\\d{1,2}\"\n",
    "    re_pat13=re.compile(pat13)\n",
    "    Expected_Output=re_pat13.findall(sample_text)\n",
    "    print(Expected_Output)\n",
    "Sample_Text=\"01.12 0132.123 2.31875 145.8 3.01 27.25 0.25\"\n",
    "find_decimal(Sample_Text)"
   ]
  },
  {
   "cell_type": "markdown",
   "id": "8e495012",
   "metadata": {},
   "source": [
    "Q21:Write a Python program to separate and print the numbers and their position of a given string."
   ]
  },
  {
   "cell_type": "code",
   "execution_count": 132,
   "id": "22f326d2",
   "metadata": {},
   "outputs": [
    {
     "name": "stdout",
     "output_type": "stream",
     "text": [
      "947\n",
      "<re.Match object; span=(31, 34), match='947'>\n",
      "896\n",
      "<re.Match object; span=(36, 39), match='896'>\n",
      "926\n",
      "<re.Match object; span=(41, 44), match='926'>\n",
      "524\n",
      "<re.Match object; span=(46, 49), match='524'>\n",
      "734\n",
      "<re.Match object; span=(51, 54), match='734'>\n",
      "950\n",
      "<re.Match object; span=(56, 59), match='950'>\n",
      "642\n",
      "<re.Match object; span=(61, 64), match='642'>\n"
     ]
    }
   ],
   "source": [
    "string5='My marks in each semester are: 947, 896, 926, 524, 734, 950, 642'\n",
    "def numb(string):\n",
    "    pat14=re.compile('(\\d+)')\n",
    "    for pat in pat14.finditer(string):\n",
    "        print(pat.group())\n",
    "        print(pat)\n",
    "    \n",
    "    \n",
    "numb(string5)"
   ]
  },
  {
   "cell_type": "markdown",
   "id": "0c3e9352",
   "metadata": {},
   "source": [
    "Q22:Write a regular expression in python program to extract maximum/largest numeric value from a string.\n",
    "Sample Text:  'My marks in each semester are: 947, 896, 926, 524, 734, 950, 642'\n",
    "Expected Output: 950\n"
   ]
  },
  {
   "cell_type": "code",
   "execution_count": 133,
   "id": "aeaa539e",
   "metadata": {},
   "outputs": [
    {
     "name": "stdout",
     "output_type": "stream",
     "text": [
      "['947', '896', '926', '524', '734', '950', '642']\n",
      "950\n"
     ]
    }
   ],
   "source": [
    "string5='My marks in each semester are: 947, 896, 926, 524, 734, 950, 642'\n",
    "pat15=r'\\d+'\n",
    "numb=re.findall(pat15,string5)\n",
    "print(numb)\n",
    "print(max(numb))"
   ]
  },
  {
   "cell_type": "markdown",
   "id": "62c6cdef",
   "metadata": {},
   "source": [
    "Q23: Create a function in python to insert spaces between words starting with capital letters.\n",
    "    Sample Text: “RegularExpressionIsAnImportantTopicInPython\"\n",
    "Expected Output: Regular Expression Is An Important Topic In Python\n"
   ]
  },
  {
   "cell_type": "code",
   "execution_count": 146,
   "id": "cbb0cd22",
   "metadata": {},
   "outputs": [
    {
     "name": "stdout",
     "output_type": "stream",
     "text": [
      "Regular Expression Is An Important Topic In Python \n"
     ]
    }
   ],
   "source": [
    "string6='RegularExpressionIsAnImportantTopicInPython'\n",
    "def capital(string):\n",
    "    pat16=r'([A-Z])([a-z]+)'\n",
    "    output= re.sub(pat16,r'\\1\\2 ',string)\n",
    "    print(output)\n",
    "    \n",
    "capital(string6)    "
   ]
  },
  {
   "cell_type": "markdown",
   "id": "7d3b8160",
   "metadata": {},
   "source": [
    "Q24: Python regex to find sequences of one upper case letter followed by lower case letters"
   ]
  },
  {
   "cell_type": "code",
   "execution_count": 154,
   "id": "eb7bf78d",
   "metadata": {},
   "outputs": [
    {
     "name": "stdout",
     "output_type": "stream",
     "text": [
      "Python\n",
      "Regex\n",
      "Sequences\n",
      "Upper\n"
     ]
    }
   ],
   "source": [
    "string7=\"Python Regex to find Sequences of one Upper case letter followed by lower case letters\"\n",
    "def sequence(string):\n",
    "    pat17=r'([A-Z])([a-z]+)'\n",
    "    re_pat17=re.compile(pat17)\n",
    "    for pat in re_pat17.finditer(string):\n",
    "        print(pat.group())\n",
    "        \n",
    "sequence(string7)\n"
   ]
  },
  {
   "cell_type": "markdown",
   "id": "42352db2",
   "metadata": {},
   "source": [
    "Q25: Write a Python program to remove continuous duplicate words from Sentence using Regular Expression.\n",
    "Sample Text: \"Hello hello world world\"\n",
    "Expected Output: Hello hello world\n"
   ]
  },
  {
   "cell_type": "code",
   "execution_count": 170,
   "id": "30e90419",
   "metadata": {},
   "outputs": [
    {
     "name": "stdout",
     "output_type": "stream",
     "text": [
      "Hello hello world\n"
     ]
    }
   ],
   "source": [
    "string8=\"Hello hello world world\"\n",
    "reg=r'\\b(\\w+)(?:\\W+\\1\\b)+'\n",
    "x=re.sub(reg,r'\\1',string8)\n",
    "print(x)"
   ]
  },
  {
   "cell_type": "markdown",
   "id": "54e46f5f",
   "metadata": {},
   "source": [
    "Q26: Write a python program using RegEx to accept string ending with alphanumeric character."
   ]
  },
  {
   "cell_type": "code",
   "execution_count": 287,
   "id": "7dd4af29",
   "metadata": {},
   "outputs": [],
   "source": [
    "def alphanumeric(string):\n",
    "    reg1='[A-Za-z0-9]$'\n",
    "    if re.search(reg1,string):\n",
    "        print(\"The\", string,\" is accepted\")\n",
    "    else:\n",
    "        print(\" The\", string,\" is not accepted\")\n",
    "  "
   ]
  },
  {
   "cell_type": "code",
   "execution_count": 290,
   "id": "d198f43a",
   "metadata": {},
   "outputs": [
    {
     "name": "stdout",
     "output_type": "stream",
     "text": [
      "The bsckjal2233  is accepted\n",
      " The  abcd**  is not accepted\n"
     ]
    }
   ],
   "source": [
    "st=\"bsckjal2233\"\n",
    "alphanumeric(st)\n",
    "st1=\" abcd**\" \n",
    "alphanumeric(st1)"
   ]
  },
  {
   "cell_type": "markdown",
   "id": "afb3a00e",
   "metadata": {},
   "source": [
    "Q27: Write a python program using RegEx to extract the hashtags.\n",
    "Sample Text:  \"\"\"RT @kapil_kausik: #Doltiwal I mean #xyzabc is \"hurt\" by #Demonetization as the same has rendered USELESS <ed><U+00A0><U+00BD><ed><U+00B1><U+0089> \"acquired funds\" No wo\"\"\"\n",
    "Expected Output: ['#Doltiwal', '#xyzabc', '#Demonetization']\n"
   ]
  },
  {
   "cell_type": "code",
   "execution_count": 291,
   "id": "6e9b6896",
   "metadata": {},
   "outputs": [
    {
     "name": "stdout",
     "output_type": "stream",
     "text": [
      "['#Doltiwal', '#xyzabc', '#Demonetization']\n"
     ]
    }
   ],
   "source": [
    "def hashtag(string):\n",
    "    regex1=r'#\\w+'\n",
    "    output=re.findall(regex1,string)\n",
    "    print(output)\n",
    "\n",
    "Text=\"\"\"RT @kapil_kausik: #Doltiwal I mean #xyzabc is \"hurt\" by #Demonetization as the same has rendered USELESS <ed><U+00A0><U+00BD><ed><U+00B1><U+0089> \"acquired funds\" No wo\"\"\"\n",
    "hashtag(Text)"
   ]
  },
  {
   "cell_type": "markdown",
   "id": "a40b42f9",
   "metadata": {},
   "source": [
    "Q28:Write a python program using RegEx to remove <U+..> like symbols\n",
    "Check the below sample text, there are strange symbols something of the sort <U+..> all over the place. You need to come up with a general Regex expression that will cover all such symbols.\n",
    "Sample Text: \"@Jags123456 Bharat band on 28??<ed><U+00A0><U+00BD><ed><U+00B8><U+0082>Those who  are protesting #demonetization  are all different party leaders\"\n",
    "Expected Output: @Jags123456 Bharat band on 28??<ed><ed>Those who  are protesting #demonetization  are all different party leaders\n"
   ]
  },
  {
   "cell_type": "code",
   "execution_count": 293,
   "id": "582bf4c4",
   "metadata": {},
   "outputs": [
    {
     "name": "stdout",
     "output_type": "stream",
     "text": [
      "@Jags123456 Bharat band on 28??<ed><ed>Those who  are protesting #demonetization  are all different party leaders\n"
     ]
    }
   ],
   "source": [
    "def remove(string):\n",
    "    regex2=r'<U\\+[A-Za-z0-9]+>'\n",
    "    output=re.sub(regex2,\"\",string)\n",
    "    print(output)\n",
    "    \n",
    "Text1=\"@Jags123456 Bharat band on 28??<ed><U+00A0><U+00BD><ed><U+00B8><U+0082>Those who  are protesting #demonetization  are all different party leaders\"\n",
    "remove(Text1)"
   ]
  },
  {
   "cell_type": "markdown",
   "id": "5dcb5487",
   "metadata": {},
   "source": [
    "Q29: Write a python program to extract dates from the text stored in the text file.\n",
    "Sample Text: Ron was born on 12-09-1992 and he was admitted to school 15-12-1999.\n",
    "Note- Store this sample text in the file and then extract dates.\n"
   ]
  },
  {
   "cell_type": "code",
   "execution_count": 299,
   "id": "f3993761",
   "metadata": {},
   "outputs": [
    {
     "name": "stdout",
     "output_type": "stream",
     "text": [
      "['12-09-1992', '15-12-1999']\n"
     ]
    }
   ],
   "source": [
    "with open(\"Q29.txt\") as file2:\n",
    "    for file in file2:\n",
    "        regex3='(\\d{2}-\\d{2}-\\d{4})'\n",
    "        output3=re.findall(regex3,file)\n",
    "        print(output3)\n",
    "    "
   ]
  },
  {
   "cell_type": "markdown",
   "id": "be6ca78b",
   "metadata": {},
   "source": [
    "Q30: Create a function in python to remove all words from a string of length between 2 and 4.\n",
    "The use of the re.compile() method is mandatory.\n",
    "Sample Text: \"The following example creates an ArrayList with a capacity of 50 elements. 4 elements are then added to the ArrayList and the ArrayList is trimmed accordingly.\"\n",
    "Expected Output:  following example creates ArrayList a capacity elements. 4 elements added ArrayList ArrayList trimmed accordingly.\n"
   ]
  },
  {
   "cell_type": "code",
   "execution_count": 311,
   "id": "5c4b8b5d",
   "metadata": {},
   "outputs": [
    {
     "name": "stdout",
     "output_type": "stream",
     "text": [
      " following example creates  ArrayList  a capacity   elements. 4 elements   added   ArrayList   ArrayList  trimmed accordingly.\n"
     ]
    }
   ],
   "source": [
    "def length(string):\n",
    "    re_gex= re.compile(r'\\b\\w{2,4}\\b')\n",
    "    output4=re_gex.sub(\"\",string)\n",
    "    print(output4)\n",
    "    \n",
    "xt=\"The following example creates an ArrayList with a capacity of 50 elements. 4 elements are then added to the ArrayList and the ArrayList is trimmed accordingly.\"\n",
    "length(xt)"
   ]
  }
 ],
 "metadata": {
  "kernelspec": {
   "display_name": "Python 3 (ipykernel)",
   "language": "python",
   "name": "python3"
  },
  "language_info": {
   "codemirror_mode": {
    "name": "ipython",
    "version": 3
   },
   "file_extension": ".py",
   "mimetype": "text/x-python",
   "name": "python",
   "nbconvert_exporter": "python",
   "pygments_lexer": "ipython3",
   "version": "3.11.4"
  }
 },
 "nbformat": 4,
 "nbformat_minor": 5
}
